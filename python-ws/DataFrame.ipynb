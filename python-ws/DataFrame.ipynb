{
 "cells": [
  {
   "cell_type": "code",
   "execution_count": 1,
   "id": "63d6efab",
   "metadata": {},
   "outputs": [
    {
     "name": "stdout",
     "output_type": "stream",
     "text": [
      "   0\n",
      "0  1\n",
      "1  2\n",
      "2  3\n",
      "3  4\n",
      "4  5\n",
      "<class 'pandas.core.frame.DataFrame'>\n"
     ]
    }
   ],
   "source": [
    "import pandas as pd\n",
    "\n",
    "l=[1,2,3,4,5]\n",
    "var = pd.DataFrame(l)\n",
    "print(var)\n",
    "print(type(var))"
   ]
  },
  {
   "cell_type": "code",
   "execution_count": 7,
   "id": "de612a3e",
   "metadata": {},
   "outputs": [
    {
     "name": "stdout",
     "output_type": "stream",
     "text": [
      "   a   s\n",
      "0  1  11\n",
      "1  2  12\n",
      "2  3  13\n",
      "3  4  14\n",
      "4  5  15\n"
     ]
    }
   ],
   "source": [
    "d = {\"a\":[1,2,3,4,5],\"s\":[11, 12, 13, 14, 15]}\n",
    "var1 = pd.DataFrame(d)\n",
    "print(var1)"
   ]
  },
  {
   "cell_type": "code",
   "execution_count": 12,
   "id": "71f5a1e8",
   "metadata": {},
   "outputs": [
    {
     "name": "stdout",
     "output_type": "stream",
     "text": [
      "   a   s\n",
      "0  1  11\n",
      "1  2  12\n",
      "2  3  13\n",
      "3  4  14\n",
      "4  5  15\n"
     ]
    }
   ],
   "source": [
    "data = {\"a\":[1,2,3,4,5],\"s\":[11, 12, 13, 14, 15],\"t\":[11, 12, 13, 14, 15],\"u\":[11, 12, 13, 14, 15]}\n",
    "var1 = pd.DataFrame(data, columns =[\"a\",\"s\"])\n",
    "print(var1)"
   ]
  },
  {
   "cell_type": "code",
   "execution_count": 17,
   "id": "4ecc4806",
   "metadata": {},
   "outputs": [
    {
     "name": "stdout",
     "output_type": "stream",
     "text": [
      "3\n"
     ]
    }
   ],
   "source": [
    "d2 = {\"a\":[1,2,3,4,5],\"s\":[11, 12, 13, 14, 15]}\n",
    "var3 = pd.DataFrame(d2)\n",
    "print(var3[\"a\"][2])"
   ]
  },
  {
   "cell_type": "code",
   "execution_count": 19,
   "id": "3fc403bc",
   "metadata": {},
   "outputs": [
    {
     "name": "stdout",
     "output_type": "stream",
     "text": [
      "    0   1   2   3   4\n",
      "0   1   2   3   4   5\n",
      "1  11  12  13  14  15\n"
     ]
    }
   ],
   "source": [
    "list1 = [[1,2,3,4,5],[11, 12, 13, 14, 15]]\n",
    "va = pd.DataFrame(list1)\n",
    "print(va)"
   ]
  },
  {
   "cell_type": "code",
   "execution_count": 2,
   "id": "da014a85",
   "metadata": {},
   "outputs": [
    {
     "name": "stdout",
     "output_type": "stream",
     "text": [
      "   s   p\n",
      "0  1  11\n",
      "1  2  12\n",
      "2  3  13\n",
      "3  4  14\n",
      "4  5  15\n"
     ]
    }
   ],
   "source": [
    "sr = {\"s\":pd.Series([1,2,3,4,5]),\"p\":pd.Series([11,12,13,14,15])}\n",
    "val = pd.DataFrame(sr)\n",
    "print(val)"
   ]
  },
  {
   "cell_type": "markdown",
   "id": "c5878557",
   "metadata": {},
   "source": [
    "# Arithmetic operations \n"
   ]
  },
  {
   "cell_type": "code",
   "execution_count": 3,
   "id": "303ddec8",
   "metadata": {},
   "outputs": [
    {
     "name": "stdout",
     "output_type": "stream",
     "text": [
      "   a   s   c\n",
      "0  1  11  12\n",
      "1  2  12  14\n",
      "2  3  13  16\n",
      "3  4  14  18\n",
      "4  5  15  20\n"
     ]
    }
   ],
   "source": [
    "c\n",
    "d = {\"a\":[1,2,3,4,5],\"s\":[11, 12, 13, 14, 15]}\n",
    "var1 = pd.DataFrame(d)\n",
    "var1[\"c\"] = var1[\"a\"] + var1[\"s\"]\n",
    "print(var1)"
   ]
  },
  {
   "cell_type": "code",
   "execution_count": 5,
   "id": "bb98c277",
   "metadata": {},
   "outputs": [
    {
     "name": "stdout",
     "output_type": "stream",
     "text": [
      "   a   s   c\n",
      "0  1  11 -10\n",
      "1  2  12 -10\n",
      "2  3  13 -10\n",
      "3  4  14 -10\n",
      "4  5  15 -10\n"
     ]
    }
   ],
   "source": [
    "\n",
    "d = {\"a\":[1,2,3,4,5],\"s\":[11, 12, 13, 14, 15]}\n",
    "var1 = pd.DataFrame(d)\n",
    "var1[\"c\"] = var1[\"a\"] - var1[\"s\"]\n",
    "print(var1)"
   ]
  },
  {
   "cell_type": "code",
   "execution_count": 7,
   "id": "22755445",
   "metadata": {},
   "outputs": [
    {
     "name": "stdout",
     "output_type": "stream",
     "text": [
      "   a   s   c\n",
      "0  1  11  11\n",
      "1  2  12  24\n",
      "2  3  13  39\n",
      "3  4  14  56\n",
      "4  5  15  75\n"
     ]
    }
   ],
   "source": [
    "\n",
    "d = {\"a\":[1,2,3,4,5],\"s\":[11, 12, 13, 14, 15]}\n",
    "var1 = pd.DataFrame(d)\n",
    "var1[\"c\"] = var1[\"a\"] * var1[\"s\"]\n",
    "print(var1)"
   ]
  },
  {
   "cell_type": "code",
   "execution_count": 10,
   "id": "156f695c",
   "metadata": {},
   "outputs": [
    {
     "name": "stdout",
     "output_type": "stream",
     "text": [
      "   a   s         c\n",
      "0  1  11  0.090909\n",
      "1  2  12  0.166667\n",
      "2  3  13  0.230769\n",
      "3  4  14  0.285714\n",
      "4  5  15  0.333333\n"
     ]
    }
   ],
   "source": [
    "\n",
    "d = {\"a\":[1,2,3,4,5],\"s\":[11, 12, 13, 14, 15]}\n",
    "var1 = pd.DataFrame(d)\n",
    "var1[\"c\"] = var1[\"a\"] / var1[\"s\"]\n",
    "print(var1)"
   ]
  },
  {
   "cell_type": "code",
   "execution_count": 13,
   "id": "89e8205f",
   "metadata": {},
   "outputs": [
    {
     "name": "stdout",
     "output_type": "stream",
     "text": [
      "   a   s      c\n",
      "0  1  11  False\n",
      "1  2  12  False\n",
      "2  3  13  False\n",
      "3  4  14  False\n",
      "4  5  15  False\n"
     ]
    }
   ],
   "source": [
    "\n",
    "d = {\"a\":[1,2,3,4,5],\"s\":[11, 12, 13, 14, 15]}\n",
    "var1 = pd.DataFrame(d)\n",
    "var1[\"c\"] = var1[\"a\"] > var1[\"s\"]\n",
    "print(var1)"
   ]
  },
  {
   "cell_type": "code",
   "execution_count": 22,
   "id": "53e01924",
   "metadata": {},
   "outputs": [
    {
     "name": "stdout",
     "output_type": "stream",
     "text": [
      "   a   s     c\n",
      "0  1  11  True\n",
      "1  2  12  True\n",
      "2  3  13  True\n",
      "3  4  14  True\n",
      "4  5  15  True\n"
     ]
    }
   ],
   "source": [
    "\n",
    "d = {\"a\":[1,2,3,4,5],\"s\":[11, 12, 13, 14, 15]}\n",
    "var1 = pd.DataFrame(d)\n",
    "var1[\"c\"] = var1[\"a\"] < var1[\"s\"]\n",
    "print(var1)"
   ]
  },
  {
   "cell_type": "code",
   "execution_count": 20,
   "id": "e16738cc",
   "metadata": {},
   "outputs": [
    {
     "name": "stdout",
     "output_type": "stream",
     "text": [
      "   a   s  Python\n",
      "0  1  11    True\n",
      "1  2  12    True\n",
      "2  3  13    True\n",
      "3  4  14   False\n",
      "4  5  15   False\n"
     ]
    }
   ],
   "source": [
    "\n",
    "d = {\"a\":[1,2,3,4,5],\"s\":[11, 12, 13, 14, 15]}\n",
    "var1 = pd.DataFrame(d)\n",
    "var1[\"Python\"] = var1[\"a\"] <= 3 \n",
    "print(var1)"
   ]
  },
  {
   "cell_type": "code",
   "execution_count": 21,
   "id": "3fa1b332",
   "metadata": {},
   "outputs": [
    {
     "name": "stdout",
     "output_type": "stream",
     "text": [
      "Empty DataFrame\n",
      "Columns: []\n",
      "Index: []\n"
     ]
    }
   ],
   "source": [
    "df = pd.DataFrame()\n",
    "print(df)"
   ]
  },
  {
   "cell_type": "markdown",
   "id": "9a75fa0d",
   "metadata": {},
   "source": [
    "# Insert Operation\n"
   ]
  },
  {
   "cell_type": "code",
   "execution_count": 36,
   "id": "50dc8122",
   "metadata": {},
   "outputs": [
    {
     "name": "stdout",
     "output_type": "stream",
     "text": [
      "   col0  a   s  A1\n",
      "0    51  1  11  21\n",
      "1    52  2  12  22\n",
      "2    53  3  13  23\n",
      "3    54  4  14  24\n",
      "4    55  5  15  25\n"
     ]
    }
   ],
   "source": [
    "import pandas as pd\n",
    "da = {\"a\":[1,2,3,4,5],\"s\":[11, 12, 13, 14, 15]}\n",
    "value = pd.DataFrame(da)\n",
    "value.insert(2,\"A1\",[21,22,23,24,25])\n",
    "value.insert(0, \"col0\", pd.Series([51, 52, 53, 54, 55], index=[0,1,2,3,4]))\n",
    "print(value)"
   ]
  },
  {
   "cell_type": "code",
   "execution_count": 42,
   "id": "64852249",
   "metadata": {},
   "outputs": [
    {
     "data": {
      "text/html": [
       "<div>\n",
       "<style scoped>\n",
       "    .dataframe tbody tr th:only-of-type {\n",
       "        vertical-align: middle;\n",
       "    }\n",
       "\n",
       "    .dataframe tbody tr th {\n",
       "        vertical-align: top;\n",
       "    }\n",
       "\n",
       "    .dataframe thead th {\n",
       "        text-align: right;\n",
       "    }\n",
       "</style>\n",
       "<table border=\"1\" class=\"dataframe\">\n",
       "  <thead>\n",
       "    <tr style=\"text-align: right;\">\n",
       "      <th></th>\n",
       "      <th>a</th>\n",
       "      <th>s</th>\n",
       "      <th>Copy</th>\n",
       "    </tr>\n",
       "  </thead>\n",
       "  <tbody>\n",
       "    <tr>\n",
       "      <th>0</th>\n",
       "      <td>1</td>\n",
       "      <td>11</td>\n",
       "      <td>1.0</td>\n",
       "    </tr>\n",
       "    <tr>\n",
       "      <th>1</th>\n",
       "      <td>2</td>\n",
       "      <td>12</td>\n",
       "      <td>2.0</td>\n",
       "    </tr>\n",
       "    <tr>\n",
       "      <th>2</th>\n",
       "      <td>3</td>\n",
       "      <td>13</td>\n",
       "      <td>3.0</td>\n",
       "    </tr>\n",
       "    <tr>\n",
       "      <th>3</th>\n",
       "      <td>4</td>\n",
       "      <td>14</td>\n",
       "      <td>NaN</td>\n",
       "    </tr>\n",
       "    <tr>\n",
       "      <th>4</th>\n",
       "      <td>5</td>\n",
       "      <td>15</td>\n",
       "      <td>NaN</td>\n",
       "    </tr>\n",
       "  </tbody>\n",
       "</table>\n",
       "</div>"
      ],
      "text/plain": [
       "   a   s  Copy\n",
       "0  1  11   1.0\n",
       "1  2  12   2.0\n",
       "2  3  13   3.0\n",
       "3  4  14   NaN\n",
       "4  5  15   NaN"
      ]
     },
     "execution_count": 42,
     "metadata": {},
     "output_type": "execute_result"
    }
   ],
   "source": [
    "da = {\"a\":[1,2,3,4,5],\"s\":[11, 12, 13, 14, 15]}\n",
    "value = pd.DataFrame(da)\n",
    "value[\"Copy\"] = value[\"a\"][:3]\n",
    "value \n"
   ]
  },
  {
   "cell_type": "markdown",
   "id": "6e0b98b8",
   "metadata": {},
   "source": [
    "# Delete"
   ]
  },
  {
   "cell_type": "code",
   "execution_count": 48,
   "id": "aa5fa988",
   "metadata": {},
   "outputs": [
    {
     "data": {
      "text/plain": [
       "0    1.0\n",
       "1    2.0\n",
       "2    3.0\n",
       "3    NaN\n",
       "4    NaN\n",
       "Name: Copy, dtype: float64"
      ]
     },
     "execution_count": 48,
     "metadata": {},
     "output_type": "execute_result"
    }
   ],
   "source": [
    "#varr = value.pop(\"Copy\")\n",
    "varr"
   ]
  },
  {
   "cell_type": "code",
   "execution_count": 49,
   "id": "dac99f93",
   "metadata": {},
   "outputs": [
    {
     "data": {
      "text/html": [
       "<div>\n",
       "<style scoped>\n",
       "    .dataframe tbody tr th:only-of-type {\n",
       "        vertical-align: middle;\n",
       "    }\n",
       "\n",
       "    .dataframe tbody tr th {\n",
       "        vertical-align: top;\n",
       "    }\n",
       "\n",
       "    .dataframe thead th {\n",
       "        text-align: right;\n",
       "    }\n",
       "</style>\n",
       "<table border=\"1\" class=\"dataframe\">\n",
       "  <thead>\n",
       "    <tr style=\"text-align: right;\">\n",
       "      <th></th>\n",
       "      <th>a</th>\n",
       "      <th>s</th>\n",
       "    </tr>\n",
       "  </thead>\n",
       "  <tbody>\n",
       "    <tr>\n",
       "      <th>0</th>\n",
       "      <td>1</td>\n",
       "      <td>11</td>\n",
       "    </tr>\n",
       "    <tr>\n",
       "      <th>1</th>\n",
       "      <td>2</td>\n",
       "      <td>12</td>\n",
       "    </tr>\n",
       "    <tr>\n",
       "      <th>2</th>\n",
       "      <td>3</td>\n",
       "      <td>13</td>\n",
       "    </tr>\n",
       "    <tr>\n",
       "      <th>3</th>\n",
       "      <td>4</td>\n",
       "      <td>14</td>\n",
       "    </tr>\n",
       "    <tr>\n",
       "      <th>4</th>\n",
       "      <td>5</td>\n",
       "      <td>15</td>\n",
       "    </tr>\n",
       "  </tbody>\n",
       "</table>\n",
       "</div>"
      ],
      "text/plain": [
       "   a   s\n",
       "0  1  11\n",
       "1  2  12\n",
       "2  3  13\n",
       "3  4  14\n",
       "4  5  15"
      ]
     },
     "execution_count": 49,
     "metadata": {},
     "output_type": "execute_result"
    }
   ],
   "source": [
    "value"
   ]
  },
  {
   "cell_type": "code",
   "execution_count": 53,
   "id": "88811b87",
   "metadata": {},
   "outputs": [
    {
     "data": {
      "text/html": [
       "<div>\n",
       "<style scoped>\n",
       "    .dataframe tbody tr th:only-of-type {\n",
       "        vertical-align: middle;\n",
       "    }\n",
       "\n",
       "    .dataframe tbody tr th {\n",
       "        vertical-align: top;\n",
       "    }\n",
       "\n",
       "    .dataframe thead th {\n",
       "        text-align: right;\n",
       "    }\n",
       "</style>\n",
       "<table border=\"1\" class=\"dataframe\">\n",
       "  <thead>\n",
       "    <tr style=\"text-align: right;\">\n",
       "      <th></th>\n",
       "    </tr>\n",
       "  </thead>\n",
       "  <tbody>\n",
       "    <tr>\n",
       "      <th>0</th>\n",
       "    </tr>\n",
       "    <tr>\n",
       "      <th>1</th>\n",
       "    </tr>\n",
       "    <tr>\n",
       "      <th>2</th>\n",
       "    </tr>\n",
       "    <tr>\n",
       "      <th>3</th>\n",
       "    </tr>\n",
       "    <tr>\n",
       "      <th>4</th>\n",
       "    </tr>\n",
       "  </tbody>\n",
       "</table>\n",
       "</div>"
      ],
      "text/plain": [
       "Empty DataFrame\n",
       "Columns: []\n",
       "Index: [0, 1, 2, 3, 4]"
      ]
     },
     "execution_count": 53,
     "metadata": {},
     "output_type": "execute_result"
    }
   ],
   "source": [
    "del value[\"a\"]\n",
    "value"
   ]
  }
 ],
 "metadata": {
  "kernelspec": {
   "display_name": "Python 3 (ipykernel)",
   "language": "python",
   "name": "python3"
  },
  "language_info": {
   "codemirror_mode": {
    "name": "ipython",
    "version": 3
   },
   "file_extension": ".py",
   "mimetype": "text/x-python",
   "name": "python",
   "nbconvert_exporter": "python",
   "pygments_lexer": "ipython3",
   "version": "3.8.10"
  }
 },
 "nbformat": 4,
 "nbformat_minor": 5
}
