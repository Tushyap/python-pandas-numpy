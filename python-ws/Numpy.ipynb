{
 "cells": [
  {
   "cell_type": "code",
   "execution_count": 1,
   "id": "abd65091",
   "metadata": {},
   "outputs": [
    {
     "name": "stdout",
     "output_type": "stream",
     "text": [
      "1.21 µs ± 13.4 ns per loop (mean ± std. dev. of 7 runs, 1,000,000 loops each)\n"
     ]
    }
   ],
   "source": [
    "%timeit [j**4 for j in range(1, 9)]"
   ]
  },
  {
   "cell_type": "markdown",
   "id": "995d3145",
   "metadata": {},
   "source": [
    "# Creating Numpy Array "
   ]
  },
  {
   "cell_type": "code",
   "execution_count": 46,
   "id": "e10ee28d",
   "metadata": {},
   "outputs": [
    {
     "name": "stdout",
     "output_type": "stream",
     "text": [
      "[1 2 3 4]\n",
      "<class 'numpy.ndarray'>\n",
      "1\n"
     ]
    }
   ],
   "source": [
    "import numpy as np\n",
    "a = np.array([1,2, 3, 4])\n",
    "print(a)\n",
    "print(type(a))\n",
    "print(a.ndim)"
   ]
  },
  {
   "cell_type": "code",
   "execution_count": 7,
   "id": "668be4c3",
   "metadata": {},
   "outputs": [
    {
     "name": "stdout",
     "output_type": "stream",
     "text": [
      "enter : 10\n",
      "enter : 11\n",
      "enter : 12\n",
      "enter : 13\n",
      "[10 11 12 13]\n"
     ]
    }
   ],
   "source": [
    "li = []\n",
    "\n",
    "for i in range(1, 5):\n",
    "    var = int(input(\"enter : \"))\n",
    "    li.append(var)\n",
    "    \n",
    "print(np.array(li))    "
   ]
  },
  {
   "cell_type": "code",
   "execution_count": 9,
   "id": "4c7db309",
   "metadata": {},
   "outputs": [
    {
     "name": "stdout",
     "output_type": "stream",
     "text": [
      "[[1 2 3 4]\n",
      " [5 6 7 8]]\n",
      "2\n"
     ]
    }
   ],
   "source": [
    "ar2 = np.array([[1,2,3,4],[5,6,7,8]])\n",
    "print(ar2)\n",
    "print(ar2.ndim)"
   ]
  },
  {
   "cell_type": "code",
   "execution_count": 10,
   "id": "60e345b1",
   "metadata": {},
   "outputs": [
    {
     "name": "stdout",
     "output_type": "stream",
     "text": [
      "[[[ 1  2  3  4]\n",
      "  [ 5  6  7  8]\n",
      "  [ 9 10 11 12]]]\n",
      "3\n"
     ]
    }
   ],
   "source": [
    "ar3 = np.array([[[1,2,3,4],[5,6,7,8],[9,10,11,12]]])\n",
    "print(ar3)\n",
    "print(ar3.ndim)"
   ]
  },
  {
   "cell_type": "code",
   "execution_count": 11,
   "id": "3b2da115",
   "metadata": {},
   "outputs": [
    {
     "name": "stdout",
     "output_type": "stream",
     "text": [
      "[[[[[[[[[[1 2 3 4]]]]]]]]]]\n",
      "10\n"
     ]
    }
   ],
   "source": [
    "arn = np.array([1,2,3,4], ndmin = 10)\n",
    "print(arn)\n",
    "print(arn.ndim)"
   ]
  },
  {
   "cell_type": "markdown",
   "id": "67d9b6aa",
   "metadata": {},
   "source": [
    "# Zero array "
   ]
  },
  {
   "cell_type": "code",
   "execution_count": 13,
   "id": "d62bd8be",
   "metadata": {},
   "outputs": [
    {
     "name": "stdout",
     "output_type": "stream",
     "text": [
      "[0. 0. 0. 0.]\n",
      "\n",
      "[[0. 0. 0. 0.]\n",
      " [0. 0. 0. 0.]\n",
      " [0. 0. 0. 0.]]\n"
     ]
    }
   ],
   "source": [
    "zeroArr = np.zeros(4)\n",
    "zeroArr1 = np.zeros((3,4))\n",
    "\n",
    "print(zeroArr)\n",
    "print()\n",
    "print(zeroArr1)"
   ]
  },
  {
   "cell_type": "markdown",
   "id": "e727f7c7",
   "metadata": {},
   "source": [
    "# Ones Array"
   ]
  },
  {
   "cell_type": "code",
   "execution_count": 14,
   "id": "f207a001",
   "metadata": {},
   "outputs": [
    {
     "name": "stdout",
     "output_type": "stream",
     "text": [
      "[1. 1. 1. 1.]\n",
      "\n",
      "[[1. 1. 1. 1.]\n",
      " [1. 1. 1. 1.]\n",
      " [1. 1. 1. 1.]]\n"
     ]
    }
   ],
   "source": [
    "oneAr = np.ones(4)\n",
    "onearr = np.ones((3,4))\n",
    "print(oneAr)\n",
    "print()\n",
    "print(onearr)"
   ]
  },
  {
   "cell_type": "markdown",
   "id": "65edf469",
   "metadata": {},
   "source": [
    "# Empty Array"
   ]
  },
  {
   "cell_type": "code",
   "execution_count": 15,
   "id": "50cf12ff",
   "metadata": {},
   "outputs": [
    {
     "name": "stdout",
     "output_type": "stream",
     "text": [
      "[1. 1. 1. 1.]\n"
     ]
    }
   ],
   "source": [
    "empAr = np.empty(4)\n",
    "print(empAr)"
   ]
  },
  {
   "cell_type": "markdown",
   "id": "7591f896",
   "metadata": {},
   "source": [
    "# Range Array"
   ]
  },
  {
   "cell_type": "code",
   "execution_count": 16,
   "id": "1f194c4e",
   "metadata": {},
   "outputs": [
    {
     "name": "stdout",
     "output_type": "stream",
     "text": [
      "[0 1 2 3]\n"
     ]
    }
   ],
   "source": [
    "arr = np.arange(4)\n",
    "print(arr)"
   ]
  },
  {
   "cell_type": "markdown",
   "id": "f09b6d6b",
   "metadata": {},
   "source": [
    "# Identity - Diagonal filled with one"
   ]
  },
  {
   "cell_type": "code",
   "execution_count": 17,
   "id": "4166fdfb",
   "metadata": {},
   "outputs": [
    {
     "name": "stdout",
     "output_type": "stream",
     "text": [
      "[[1. 0. 0.]\n",
      " [0. 1. 0.]\n",
      " [0. 0. 1.]]\n"
     ]
    }
   ],
   "source": [
    "ard = np.eye(3)\n",
    "print(ard)"
   ]
  },
  {
   "cell_type": "code",
   "execution_count": 18,
   "id": "06e10dfe",
   "metadata": {},
   "outputs": [
    {
     "name": "stdout",
     "output_type": "stream",
     "text": [
      "[[1. 0. 0. 0. 0.]\n",
      " [0. 1. 0. 0. 0.]\n",
      " [0. 0. 1. 0. 0.]]\n"
     ]
    }
   ],
   "source": [
    "ardd = np.eye(3, 5)\n",
    "print(ardd)"
   ]
  },
  {
   "cell_type": "markdown",
   "id": "e4e681a9",
   "metadata": {},
   "source": [
    "# Spaced linearly"
   ]
  },
  {
   "cell_type": "code",
   "execution_count": 20,
   "id": "6bb92d0d",
   "metadata": {},
   "outputs": [
    {
     "name": "stdout",
     "output_type": "stream",
     "text": [
      "[ 0.  5. 10. 15. 20.]\n"
     ]
    }
   ],
   "source": [
    "arrs = np.linspace(0,20, num = 5)\n",
    "print(arrs)"
   ]
  },
  {
   "cell_type": "markdown",
   "id": "b526a107",
   "metadata": {},
   "source": [
    "# Random number Arrays"
   ]
  },
  {
   "cell_type": "code",
   "execution_count": 21,
   "id": "834061d0",
   "metadata": {},
   "outputs": [
    {
     "name": "stdout",
     "output_type": "stream",
     "text": [
      "[0.58333122 0.98968167 0.67326496 0.2643293 ]\n"
     ]
    }
   ],
   "source": [
    "# rand() - 0-1\n",
    "ra = np.random.rand(4)\n",
    "print(ra)"
   ]
  },
  {
   "cell_type": "code",
   "execution_count": 22,
   "id": "c1e9c0c1",
   "metadata": {},
   "outputs": [
    {
     "name": "stdout",
     "output_type": "stream",
     "text": [
      "[[0.54539156 0.61191224 0.34530243 0.54580997 0.68878966]\n",
      " [0.97008708 0.62805248 0.87689042 0.51959541 0.41522813]]\n"
     ]
    }
   ],
   "source": [
    "ran = np.random.rand(2,5)\n",
    "print(ran)"
   ]
  },
  {
   "cell_type": "code",
   "execution_count": 23,
   "id": "25f1ca3b",
   "metadata": {},
   "outputs": [
    {
     "name": "stdout",
     "output_type": "stream",
     "text": [
      "[-1.80282355 -0.12316954  1.11488907 -1.80999538]\n"
     ]
    }
   ],
   "source": [
    "# randn() close to 0 +- \n",
    "ra2 = np.random.randn(4)\n",
    "print(ra2)"
   ]
  },
  {
   "cell_type": "code",
   "execution_count": 24,
   "id": "4c8506f2",
   "metadata": {},
   "outputs": [
    {
     "name": "stdout",
     "output_type": "stream",
     "text": [
      "[[-1.78531615  0.22002518 -2.04870593  0.12150782]\n",
      " [ 1.41771167 -0.71235214 -0.8575585   0.34149091]]\n"
     ]
    }
   ],
   "source": [
    "ra3 = np.random.randn(2,4)\n",
    "print(ra3)"
   ]
  },
  {
   "cell_type": "code",
   "execution_count": 25,
   "id": "296793f8",
   "metadata": {},
   "outputs": [
    {
     "name": "stdout",
     "output_type": "stream",
     "text": [
      "[0.98848183 0.77787    0.92934278 0.3161102 ]\n"
     ]
    }
   ],
   "source": [
    "# ranf() [0.0, 1)\n",
    "rf = np.random.ranf(4)\n",
    "print(rf)"
   ]
  },
  {
   "cell_type": "code",
   "execution_count": 26,
   "id": "faee6ae5",
   "metadata": {},
   "outputs": [
    {
     "name": "stdout",
     "output_type": "stream",
     "text": [
      "[ 8  7  5  8 14]\n"
     ]
    }
   ],
   "source": [
    "# randint(min, max, noOfValues)\n",
    "rn = np.random.randint(5,20,5)\n",
    "print(rn)"
   ]
  },
  {
   "cell_type": "markdown",
   "id": "26a0c893",
   "metadata": {},
   "source": [
    "# Datatypes in numpy array"
   ]
  },
  {
   "cell_type": "code",
   "execution_count": 27,
   "id": "d9ec6d9c",
   "metadata": {},
   "outputs": [
    {
     "name": "stdout",
     "output_type": "stream",
     "text": [
      "Datatype :  int64\n"
     ]
    }
   ],
   "source": [
    "dt = np.array([1,2,3,4])\n",
    "print(\"Datatype : \" , dt.dtype)"
   ]
  },
  {
   "cell_type": "code",
   "execution_count": 31,
   "id": "ff0f975a",
   "metadata": {},
   "outputs": [
    {
     "name": "stdout",
     "output_type": "stream",
     "text": [
      "Datatype :  int64\n"
     ]
    }
   ],
   "source": [
    "dt1 = np.array([1,2,3,4,11,12,13,14,15,1333])\n",
    "print(\"Datatype : \" , dt1.dtype)"
   ]
  },
  {
   "cell_type": "code",
   "execution_count": 32,
   "id": "1fd15b83",
   "metadata": {},
   "outputs": [
    {
     "name": "stdout",
     "output_type": "stream",
     "text": [
      "Datatype :  float64\n"
     ]
    }
   ],
   "source": [
    "dt2 = np.array([1,2.0,3,4.0])\n",
    "print(\"Datatype : \" , dt2.dtype)"
   ]
  },
  {
   "cell_type": "code",
   "execution_count": 33,
   "id": "8caed402",
   "metadata": {},
   "outputs": [
    {
     "name": "stdout",
     "output_type": "stream",
     "text": [
      "Datatype :  <U1\n"
     ]
    }
   ],
   "source": [
    "dt2 = np.array([\"A\",\"B\",\"C\",\"D\"])\n",
    "print(\"Datatype : \" , dt2.dtype)"
   ]
  },
  {
   "cell_type": "code",
   "execution_count": 34,
   "id": "84646a28",
   "metadata": {},
   "outputs": [
    {
     "name": "stdout",
     "output_type": "stream",
     "text": [
      "Datatype :  <U21\n"
     ]
    }
   ],
   "source": [
    "dt2 = np.array([\"A\",\"B\",\"C\",\"D\",1,2,3,3])\n",
    "print(\"Datatype : \" , dt2.dtype)"
   ]
  },
  {
   "cell_type": "code",
   "execution_count": 37,
   "id": "6c11fdfc",
   "metadata": {},
   "outputs": [
    {
     "name": "stdout",
     "output_type": "stream",
     "text": [
      "Datatype :  int8\n"
     ]
    }
   ],
   "source": [
    "x = np.array([1,2,3,4], dtype = np.int8)\n",
    "print(\"Datatype : \" , x.dtype)"
   ]
  },
  {
   "cell_type": "code",
   "execution_count": 38,
   "id": "a3e56e71",
   "metadata": {},
   "outputs": [
    {
     "name": "stdout",
     "output_type": "stream",
     "text": [
      "Datatype :  float32\n",
      "[1. 2. 3. 4.]\n"
     ]
    }
   ],
   "source": [
    "x1 = np.array([1,2,3,4], dtype = \"f\")\n",
    "print(\"Datatype : \" , x1.dtype)\n",
    "print(x1)"
   ]
  },
  {
   "cell_type": "code",
   "execution_count": 39,
   "id": "8653a313",
   "metadata": {},
   "outputs": [
    {
     "name": "stdout",
     "output_type": "stream",
     "text": [
      "Datatype :  int64\n",
      "Datatype :  float32\n",
      "[1 2 3 4]\n",
      "[1. 2. 3. 4.]\n"
     ]
    }
   ],
   "source": [
    "x2 = np.array([1,2,3,4])\n",
    "xnew = np.float32(x2)\n",
    "print(\"Datatype : \" , x2.dtype)\n",
    "print(\"Datatype : \" , xnew.dtype)\n",
    "print(x2)\n",
    "print(xnew)"
   ]
  },
  {
   "cell_type": "code",
   "execution_count": 40,
   "id": "c9983355",
   "metadata": {},
   "outputs": [
    {
     "name": "stdout",
     "output_type": "stream",
     "text": [
      "[1 2 3 4]\n",
      "[1. 2. 3. 4.]\n"
     ]
    }
   ],
   "source": [
    "x3 = np.array([1,2,3,4])\n",
    "newx3 = x3.astype(float)\n",
    "print(x3)\n",
    "print(newx3)"
   ]
  },
  {
   "cell_type": "markdown",
   "id": "37d4fdde",
   "metadata": {},
   "source": [
    "# Arithmetic Operation In Array"
   ]
  },
  {
   "cell_type": "code",
   "execution_count": 42,
   "id": "5cf7ab0d",
   "metadata": {},
   "outputs": [
    {
     "name": "stdout",
     "output_type": "stream",
     "text": [
      "[4 5 6 7]\n"
     ]
    }
   ],
   "source": [
    "varr = np.array([1,2,3,4])\n",
    "varadd =  varr + 3 \n",
    "print(varadd)"
   ]
  },
  {
   "cell_type": "code",
   "execution_count": 44,
   "id": "06dbfbd0",
   "metadata": {},
   "outputs": [
    {
     "name": "stdout",
     "output_type": "stream",
     "text": [
      "[2 4 6 8]\n"
     ]
    }
   ],
   "source": [
    "varr1 = np.array([1,2,3,4])\n",
    "varr2 = np.array([1,2,3,4])\n",
    "varadd1 =  varr1 + varr2\n",
    "print(varadd1)"
   ]
  },
  {
   "cell_type": "code",
   "execution_count": 50,
   "id": "ea68dec6",
   "metadata": {},
   "outputs": [
    {
     "name": "stdout",
     "output_type": "stream",
     "text": [
      "[2 4 6 8]\n"
     ]
    }
   ],
   "source": [
    "varr1 = np.array([1,2,3,4])\n",
    "varr2 = np.array([1,2,3,4])\n",
    "varad = np.add(varr1, varr2)\n",
    "print(varad)"
   ]
  },
  {
   "cell_type": "code",
   "execution_count": 45,
   "id": "62ff85b2",
   "metadata": {},
   "outputs": [
    {
     "name": "stdout",
     "output_type": "stream",
     "text": [
      "[-2 -1  0  1]\n"
     ]
    }
   ],
   "source": [
    "varadd2 =  varr1 - 3\n",
    "print(varadd2)"
   ]
  },
  {
   "cell_type": "code",
   "execution_count": 47,
   "id": "b1792f9e",
   "metadata": {},
   "outputs": [
    {
     "name": "stdout",
     "output_type": "stream",
     "text": [
      "[ 3  6  9 12]\n"
     ]
    }
   ],
   "source": [
    "varadd2 =  varr1 * 3\n",
    "print(varadd2)"
   ]
  },
  {
   "cell_type": "code",
   "execution_count": 48,
   "id": "45100a07",
   "metadata": {},
   "outputs": [
    {
     "name": "stdout",
     "output_type": "stream",
     "text": [
      "[0.33333333 0.66666667 1.         1.33333333]\n"
     ]
    }
   ],
   "source": [
    "varadd2 =  varr1 / 3\n",
    "print(varadd2)"
   ]
  },
  {
   "cell_type": "code",
   "execution_count": 49,
   "id": "e7cce6fb",
   "metadata": {},
   "outputs": [
    {
     "name": "stdout",
     "output_type": "stream",
     "text": [
      "[1 2 0 1]\n"
     ]
    }
   ],
   "source": [
    "varadd2 =  varr1 % 3\n",
    "print(varadd2)"
   ]
  },
  {
   "cell_type": "markdown",
   "id": "1f079000",
   "metadata": {},
   "source": [
    "# 2D Array "
   ]
  },
  {
   "cell_type": "code",
   "execution_count": 51,
   "id": "62a0cbfd",
   "metadata": {},
   "outputs": [
    {
     "name": "stdout",
     "output_type": "stream",
     "text": [
      "[[ 2  4  6  8]\n",
      " [10 12 14 16]]\n"
     ]
    }
   ],
   "source": [
    "varr2D = np.array([[1,2,3,4],[5,6,7,8]])\n",
    "varr22D = np.array([[1,2,3,4],[5,6,7,8]])\n",
    "varadd =  np.add(varr2D, varr22D) \n",
    "print(varadd)"
   ]
  },
  {
   "cell_type": "markdown",
   "id": "0ca7d230",
   "metadata": {},
   "source": [
    "# Broadcasting in Numpy "
   ]
  },
  {
   "cell_type": "code",
   "execution_count": 2,
   "id": "508a0c50",
   "metadata": {},
   "outputs": [
    {
     "ename": "ValueError",
     "evalue": "operands could not be broadcast together with shapes (4,) (3,) ",
     "output_type": "error",
     "traceback": [
      "\u001b[0;31m---------------------------------------------------------------------------\u001b[0m",
      "\u001b[0;31mValueError\u001b[0m                                Traceback (most recent call last)",
      "Input \u001b[0;32mIn [2]\u001b[0m, in \u001b[0;36m<cell line: 3>\u001b[0;34m()\u001b[0m\n\u001b[1;32m      1\u001b[0m a \u001b[38;5;241m=\u001b[39m np\u001b[38;5;241m.\u001b[39marray([\u001b[38;5;241m1\u001b[39m,\u001b[38;5;241m2\u001b[39m,\u001b[38;5;241m3\u001b[39m,\u001b[38;5;241m4\u001b[39m])\n\u001b[1;32m      2\u001b[0m b \u001b[38;5;241m=\u001b[39m np\u001b[38;5;241m.\u001b[39marray([\u001b[38;5;241m1\u001b[39m,\u001b[38;5;241m2\u001b[39m,\u001b[38;5;241m3\u001b[39m])\n\u001b[0;32m----> 3\u001b[0m \u001b[38;5;28mprint\u001b[39m( \u001b[43ma\u001b[49m\u001b[43m \u001b[49m\u001b[38;5;241;43m+\u001b[39;49m\u001b[43m \u001b[49m\u001b[43mb\u001b[49m )\n",
      "\u001b[0;31mValueError\u001b[0m: operands could not be broadcast together with shapes (4,) (3,) "
     ]
    }
   ],
   "source": [
    "a = np.array([1,2,3,4])\n",
    "b = np.array([1,2,3])\n",
    "print( a + b )"
   ]
  },
  {
   "cell_type": "code",
   "execution_count": 6,
   "id": "c7158f9d",
   "metadata": {},
   "outputs": [
    {
     "name": "stdout",
     "output_type": "stream",
     "text": [
      "[1 2 3]\n",
      "\n",
      "[[1]\n",
      " [2]\n",
      " [3]]\n",
      "\n",
      "[[2 3 4]\n",
      " [3 4 5]\n",
      " [4 5 6]]\n"
     ]
    }
   ],
   "source": [
    "#  same dimension \n",
    "c = np.array([1,2,3])\n",
    "print(c)\n",
    "print()\n",
    "d = np.array([[1],[2],[3]])\n",
    "print(d)\n",
    "print()\n",
    "print(c + d)"
   ]
  },
  {
   "cell_type": "markdown",
   "id": "e5cf66de",
   "metadata": {},
   "source": [
    "# Indexing and Slicing "
   ]
  },
  {
   "cell_type": "code",
   "execution_count": 11,
   "id": "7acb1d13",
   "metadata": {},
   "outputs": [
    {
     "name": "stdout",
     "output_type": "stream",
     "text": [
      "[ 2  4  6  8 10]\n"
     ]
    }
   ],
   "source": [
    "x = np.array([1,2,3,4,5,6,7,8,9,10])\n",
    "print(x[1::2])"
   ]
  },
  {
   "cell_type": "code",
   "execution_count": 12,
   "id": "917f3487",
   "metadata": {},
   "outputs": [
    {
     "name": "stdout",
     "output_type": "stream",
     "text": [
      "[6 7 8]\n"
     ]
    }
   ],
   "source": [
    "y2d = np.array([[1,2,3,4],[5,6,7,8]])\n",
    "print(y2d[1,1:])"
   ]
  },
  {
   "cell_type": "markdown",
   "id": "6c3352f4",
   "metadata": {},
   "source": [
    "# Iteration in Numpy"
   ]
  },
  {
   "cell_type": "code",
   "execution_count": 13,
   "id": "17ed3915",
   "metadata": {},
   "outputs": [
    {
     "name": "stdout",
     "output_type": "stream",
     "text": [
      "1\n",
      "2\n",
      "3\n",
      "4\n",
      "5\n",
      "6\n",
      "7\n",
      "8\n",
      "9\n",
      "10\n"
     ]
    }
   ],
   "source": [
    "g = np.array([1,2,3,4,5,6,7,8,9,10])\n",
    "for i in g:\n",
    "    print(i)"
   ]
  },
  {
   "cell_type": "code",
   "execution_count": 14,
   "id": "514bf22e",
   "metadata": {},
   "outputs": [
    {
     "name": "stdout",
     "output_type": "stream",
     "text": [
      "[[1 2 3 4]\n",
      " [5 6 7 8]]\n",
      "\n",
      "[1 2 3 4]\n",
      "[5 6 7 8]\n",
      "\n",
      "1\n",
      "2\n",
      "3\n",
      "4\n",
      "5\n",
      "6\n",
      "7\n",
      "8\n"
     ]
    }
   ],
   "source": [
    "y2d2 = np.array([[1,2,3,4],[5,6,7,8]])\n",
    "print(y2d2)\n",
    "print()\n",
    "\n",
    "for j in y2d2:\n",
    "    print(j)\n",
    "    \n",
    "print()\n",
    "\n",
    "for k in y2d2:\n",
    "    for l in k:\n",
    "        print(l)"
   ]
  },
  {
   "cell_type": "code",
   "execution_count": 17,
   "id": "04edf168",
   "metadata": {},
   "outputs": [
    {
     "name": "stdout",
     "output_type": "stream",
     "text": [
      "[[[ 1  2  3  4]\n",
      "  [ 5  6  7  8]\n",
      "  [ 9 10 11 12]]]\n",
      "3\n",
      "\n",
      "1\n",
      "2\n",
      "3\n",
      "4\n",
      "5\n",
      "6\n",
      "7\n",
      "8\n",
      "9\n",
      "10\n",
      "11\n",
      "12\n"
     ]
    }
   ],
   "source": [
    "ar3 = np.array([[[1,2,3,4],[5,6,7,8],[9,10,11,12]]])\n",
    "print(ar3)\n",
    "print(ar3.ndim)\n",
    "\n",
    "print()\n",
    "\n",
    "for i in ar3:\n",
    "    for j in i:\n",
    "        for k in j:\n",
    "            print(k)\n",
    "            "
   ]
  },
  {
   "cell_type": "code",
   "execution_count": 19,
   "id": "7a6e639d",
   "metadata": {},
   "outputs": [
    {
     "name": "stdout",
     "output_type": "stream",
     "text": [
      "[[[ 1  2  3  4]\n",
      "  [ 5  6  7  8]\n",
      "  [ 9 10 11 12]]]\n",
      "3\n",
      "\n",
      "1\n",
      "2\n",
      "3\n",
      "4\n",
      "5\n",
      "6\n",
      "7\n",
      "8\n",
      "9\n",
      "10\n",
      "11\n",
      "12\n"
     ]
    }
   ],
   "source": [
    "#  use nditer function to iterate without using multiple for loop \n",
    "\n",
    "ar3 = np.array([[[1,2,3,4],[5,6,7,8],[9,10,11,12]]])\n",
    "print(ar3)\n",
    "print(ar3.ndim)\n",
    "print()\n",
    "for i in np.nditer(ar3):\n",
    "    print(i)"
   ]
  },
  {
   "cell_type": "code",
   "execution_count": 20,
   "id": "d57254e2",
   "metadata": {},
   "outputs": [
    {
     "name": "stdout",
     "output_type": "stream",
     "text": [
      "[[[ 1  2  3  4]\n",
      "  [ 5  6  7  8]\n",
      "  [ 9 10 11 12]]]\n",
      "3\n",
      "\n",
      "(0, 0, 0) 1\n",
      "(0, 0, 1) 2\n",
      "(0, 0, 2) 3\n",
      "(0, 0, 3) 4\n",
      "(0, 1, 0) 5\n",
      "(0, 1, 1) 6\n",
      "(0, 1, 2) 7\n",
      "(0, 1, 3) 8\n",
      "(0, 2, 0) 9\n",
      "(0, 2, 1) 10\n",
      "(0, 2, 2) 11\n",
      "(0, 2, 3) 12\n"
     ]
    }
   ],
   "source": [
    "ar3 = np.array([[[1,2,3,4],[5,6,7,8],[9,10,11,12]]])\n",
    "print(ar3)\n",
    "print(ar3.ndim)\n",
    "print()\n",
    "for i,d in np.ndenumerate(ar3):\n",
    "    print(i,d)"
   ]
  },
  {
   "cell_type": "markdown",
   "id": "38551c1e",
   "metadata": {},
   "source": [
    "# Copy vs View "
   ]
  },
  {
   "cell_type": "code",
   "execution_count": 25,
   "id": "3d5e0545",
   "metadata": {},
   "outputs": [
    {
     "name": "stdout",
     "output_type": "stream",
     "text": [
      "g: [ 1 40  3  4  5  6  7  8  9 10]\n",
      "co: [ 1  2  3  4  5  6  7  8  9 10]\n"
     ]
    }
   ],
   "source": [
    "g = np.array([1,2,3,4,5,6,7,8,9,10])\n",
    "co = g.copy()\n",
    "g[1]=40\n",
    "print(\"g:\", g)\n",
    "print(\"co:\", co)"
   ]
  },
  {
   "cell_type": "code",
   "execution_count": 26,
   "id": "0b023257",
   "metadata": {},
   "outputs": [
    {
     "name": "stdout",
     "output_type": "stream",
     "text": [
      "g: [ 1 40  3  4  5  6  7  8  9 10]\n",
      "vi: [ 1 40  3  4  5  6  7  8  9 10]\n"
     ]
    }
   ],
   "source": [
    "g = np.array([1,2,3,4,5,6,7,8,9,10])\n",
    "vi = g.view()\n",
    "g[1]=40\n",
    "print(\"g:\", g)\n",
    "print(\"vi:\", vi)"
   ]
  },
  {
   "cell_type": "markdown",
   "id": "9e592dac",
   "metadata": {},
   "source": [
    "# Join and Split"
   ]
  },
  {
   "cell_type": "code",
   "execution_count": 29,
   "id": "c60b7cf3",
   "metadata": {},
   "outputs": [
    {
     "name": "stdout",
     "output_type": "stream",
     "text": [
      "[ 1  2  3  4 11 22 33 44]\n"
     ]
    }
   ],
   "source": [
    "j1 = np.array([1,2,3,4])\n",
    "j2 = np.array([11,22,33,44])\n",
    "\n",
    "ca = np.concatenate((j1,j2))\n",
    "print(ca)"
   ]
  },
  {
   "cell_type": "code",
   "execution_count": 31,
   "id": "1811b8c2",
   "metadata": {},
   "outputs": [
    {
     "name": "stdout",
     "output_type": "stream",
     "text": [
      "[[1 2]\n",
      " [3 4]]\n",
      "\n",
      "[[11 22]\n",
      " [33 44]]\n",
      "\n",
      "[[ 1  2 11 22]\n",
      " [ 3  4 33 44]]\n"
     ]
    }
   ],
   "source": [
    "j21 = np.array([[1,2],[3,4]])\n",
    "j22 = np.array([[11,22],[33,44]])\n",
    "print(j21)\n",
    "print()\n",
    "print(j22)\n",
    "print()\n",
    "ca2 = np.concatenate((j21,j22), axis = 1)\n",
    "print(ca2)"
   ]
  },
  {
   "cell_type": "code",
   "execution_count": 37,
   "id": "8b3b4a09",
   "metadata": {},
   "outputs": [
    {
     "name": "stdout",
     "output_type": "stream",
     "text": [
      "[1 2 3 4]\n",
      "\n",
      "[6 7 8 9]\n",
      "\n",
      "[[1 6]\n",
      " [2 7]\n",
      " [3 8]\n",
      " [4 9]]\n",
      "\n",
      "[1 2 3 4 6 7 8 9]\n"
     ]
    }
   ],
   "source": [
    "j21a = np.array([1,2,3,4])\n",
    "j22b = np.array([6,7,8,9])\n",
    "print(j21a)\n",
    "print()\n",
    "print(j22b)\n",
    "print()\n",
    "ca2a = np.stack((j21a,j22b), axis = 1)\n",
    "ca2a1 = np.hstack((j21a,j22b))\n",
    "print(ca2a)\n",
    "print()\n",
    "print(ca2a1)"
   ]
  },
  {
   "cell_type": "code",
   "execution_count": 38,
   "id": "67cc0b0d",
   "metadata": {},
   "outputs": [
    {
     "name": "stdout",
     "output_type": "stream",
     "text": [
      "[[1 2 3 4]\n",
      " [6 7 8 9]]\n",
      "[[[1 6]\n",
      "  [2 7]\n",
      "  [3 8]\n",
      "  [4 9]]]\n"
     ]
    }
   ],
   "source": [
    "ca2a2 = np.vstack((j21a,j22b))\n",
    "ca2a3 = np.dstack((j21a,j22b))\n",
    "\n",
    "print(ca2a2)\n",
    "print(ca2a3)"
   ]
  },
  {
   "cell_type": "markdown",
   "id": "96d8c022",
   "metadata": {},
   "source": [
    "# Split Array"
   ]
  },
  {
   "cell_type": "code",
   "execution_count": 41,
   "id": "5664dc9f",
   "metadata": {},
   "outputs": [
    {
     "name": "stdout",
     "output_type": "stream",
     "text": [
      "[1 2 3 4 5 6 7 8 9]\n",
      "[array([1, 2, 3]), array([4, 5, 6]), array([7, 8, 9])]\n",
      "<class 'list'>\n",
      "\n",
      "[4 5 6]\n"
     ]
    }
   ],
   "source": [
    "sp = np.array([1,2,3,4,5,3,7,3,9])\n",
    "print(sp)\n",
    "\n",
    "spl = np.array_split(sp, 3)\n",
    "print(spl)\n",
    "print(type(spl))\n",
    "print()\n",
    "print(spl[1])"
   ]
  },
  {
   "cell_type": "markdown",
   "id": "223db305",
   "metadata": {},
   "source": [
    "# Numpy functions "
   ]
  },
  {
   "cell_type": "code",
   "execution_count": 43,
   "id": "0f409dcf",
   "metadata": {},
   "outputs": [
    {
     "name": "stdout",
     "output_type": "stream",
     "text": [
      "(array([2, 4, 8]),)\n"
     ]
    }
   ],
   "source": [
    "se = np.array([1,2,3,4,3,6,7,8,3])\n",
    "val = np.where( se == 3 )\n",
    "print(val)"
   ]
  },
  {
   "cell_type": "code",
   "execution_count": 45,
   "id": "4e3502ac",
   "metadata": {},
   "outputs": [
    {
     "name": "stdout",
     "output_type": "stream",
     "text": [
      "4\n"
     ]
    }
   ],
   "source": [
    "ss = np.array([1,2,3,4,6,7,8])\n",
    "ff = np.searchsorted(ss, 5)\n",
    "print(ff)\n"
   ]
  },
  {
   "cell_type": "markdown",
   "id": "bf6c5ef9",
   "metadata": {},
   "source": [
    "# Insert"
   ]
  },
  {
   "cell_type": "code",
   "execution_count": 52,
   "id": "b4f8bea5",
   "metadata": {},
   "outputs": [
    {
     "name": "stdout",
     "output_type": "stream",
     "text": [
      "[1 2 3 4 5]\n",
      "[ 1  2 40  3  4  5]\n",
      "[ 1  2 40  3  4 40  5]\n"
     ]
    }
   ],
   "source": [
    "var = np.array([1,2,3,4,5])\n",
    "print(var)\n",
    "v = np.insert(var, 2, 40)\n",
    "print(v)\n",
    "v1 = np.insert(var, (2,4), 40.4)\n",
    "print(v1)"
   ]
  },
  {
   "cell_type": "code",
   "execution_count": 58,
   "id": "74f9c5a3",
   "metadata": {},
   "outputs": [
    {
     "name": "stdout",
     "output_type": "stream",
     "text": [
      "[[1 2]\n",
      " [3 4]\n",
      " [6 6]]\n",
      "\n",
      "[[1 2]\n",
      " [3 4]\n",
      " [6 7]]\n"
     ]
    }
   ],
   "source": [
    "var1 = np.array([[1,2],[3,4]])\n",
    "v2 = np.insert(var1, 2, 6 , axis = 0)\n",
    "print(v2)\n",
    "print()\n",
    "v3 = np.insert(var1, 2, [6,7] , axis = 0)\n",
    "print(v3)"
   ]
  },
  {
   "cell_type": "markdown",
   "id": "47474b31",
   "metadata": {},
   "source": [
    "# Append"
   ]
  },
  {
   "cell_type": "code",
   "execution_count": 59,
   "id": "b9802a1b",
   "metadata": {},
   "outputs": [
    {
     "name": "stdout",
     "output_type": "stream",
     "text": [
      "[1.  2.  3.  4.  5.  6.6]\n"
     ]
    }
   ],
   "source": [
    "var3 = np.array([1,2,3,4,5])\n",
    "v4 = np.append(var3, 6.6)\n",
    "print(v4)\n"
   ]
  },
  {
   "cell_type": "code",
   "execution_count": 64,
   "id": "27902378",
   "metadata": {},
   "outputs": [
    {
     "name": "stdout",
     "output_type": "stream",
     "text": [
      "[[1 2]\n",
      " [3 4]\n",
      " [6 4]]\n"
     ]
    }
   ],
   "source": [
    "var4 = np.array([[1,2],[3,4]])\n",
    "v5 =  np.append(var4, [[6,4]], axis = 0)\n",
    "print(v5)"
   ]
  },
  {
   "cell_type": "markdown",
   "id": "a597bf40",
   "metadata": {},
   "source": [
    "# Delete "
   ]
  },
  {
   "cell_type": "code",
   "execution_count": 65,
   "id": "d7bf13f1",
   "metadata": {},
   "outputs": [
    {
     "name": "stdout",
     "output_type": "stream",
     "text": [
      "[1 2 4 5]\n"
     ]
    }
   ],
   "source": [
    "var5 = np.array([1,2,3,4,5])\n",
    "print(np.delete(var5, 2))"
   ]
  },
  {
   "cell_type": "code",
   "execution_count": null,
   "id": "6f7e4d0c",
   "metadata": {},
   "outputs": [],
   "source": []
  }
 ],
 "metadata": {
  "kernelspec": {
   "display_name": "Python 3 (ipykernel)",
   "language": "python",
   "name": "python3"
  },
  "language_info": {
   "codemirror_mode": {
    "name": "ipython",
    "version": 3
   },
   "file_extension": ".py",
   "mimetype": "text/x-python",
   "name": "python",
   "nbconvert_exporter": "python",
   "pygments_lexer": "ipython3",
   "version": "3.8.10"
  }
 },
 "nbformat": 4,
 "nbformat_minor": 5
}
