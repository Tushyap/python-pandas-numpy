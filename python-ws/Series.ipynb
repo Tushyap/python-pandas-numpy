{
 "cells": [
  {
   "cell_type": "code",
   "execution_count": 6,
   "id": "9f4afb3a",
   "metadata": {
    "scrolled": true
   },
   "outputs": [
    {
     "name": "stdout",
     "output_type": "stream",
     "text": [
      "a    3.0\n",
      "b    4.0\n",
      "c    5.0\n",
      "d    6.0\n",
      "e    7.0\n",
      "f    8.0\n",
      "Name: python, dtype: float64\n",
      "<class 'pandas.core.series.Series'>\n",
      "5.0\n"
     ]
    }
   ],
   "source": [
    "import pandas as pd\n",
    "\n",
    "x=[3,4,5,6,7,8]\n",
    "\n",
    "var = pd.Series(x, index=['a','b','c','d','e','f'], dtype=\"float\", name=\"python\")\n",
    "\n",
    "print(var)\n",
    "print(type(var))\n",
    "print(var[2])\n"
   ]
  },
  {
   "cell_type": "code",
   "execution_count": 7,
   "id": "85b6459e",
   "metadata": {},
   "outputs": [
    {
     "name": "stdout",
     "output_type": "stream",
     "text": [
      "name    [python, c, c++, java]\n",
      "por           [12, 13, 14, 15]\n",
      "rank              [1, 4, 3, 2]\n",
      "dtype: object\n"
     ]
    }
   ],
   "source": [
    "dic = {\"name\": [\"python\",\"c\",\"c++\",\"java\"],\"por\":[12,13,14,15],\"rank\":[1,4,3,2]}\n",
    "\n",
    "var1 = pd.Series(dic)\n",
    "\n",
    "print(var1)\n"
   ]
  },
  {
   "cell_type": "code",
   "execution_count": 9,
   "id": "fa7068dc",
   "metadata": {},
   "outputs": [
    {
     "name": "stdout",
     "output_type": "stream",
     "text": [
      "0    12\n",
      "1    12\n",
      "2    12\n",
      "3    12\n",
      "4    12\n",
      "5    12\n",
      "6    12\n",
      "dtype: int64\n"
     ]
    }
   ],
   "source": [
    "s = pd.Series(12, index=[0,1,2,3,4,5,6])\n",
    "print(s)"
   ]
  },
  {
   "cell_type": "code",
   "execution_count": 10,
   "id": "f9dd1466",
   "metadata": {},
   "outputs": [
    {
     "name": "stdout",
     "output_type": "stream",
     "text": [
      "0    24.0\n",
      "1    24.0\n",
      "2    24.0\n",
      "3    24.0\n",
      "4    24.0\n",
      "5     NaN\n",
      "6     NaN\n",
      "dtype: float64\n"
     ]
    }
   ],
   "source": [
    "s = pd.Series(12, index=[0,1,2,3,4,5,6])\n",
    "s1 = pd.Series(12, index=[0,1,2,3,4])\n",
    "print(s + s1)\n"
   ]
  }
 ],
 "metadata": {
  "kernelspec": {
   "display_name": "Python 3 (ipykernel)",
   "language": "python",
   "name": "python3"
  },
  "language_info": {
   "codemirror_mode": {
    "name": "ipython",
    "version": 3
   },
   "file_extension": ".py",
   "mimetype": "text/x-python",
   "name": "python",
   "nbconvert_exporter": "python",
   "pygments_lexer": "ipython3",
   "version": "3.8.10"
  }
 },
 "nbformat": 4,
 "nbformat_minor": 5
}
